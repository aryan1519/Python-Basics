{
 "cells": [
  {
   "cell_type": "markdown",
   "metadata": {},
   "source": [
    "Q1.)Check Palindrome"
   ]
  },
  {
   "cell_type": "code",
   "execution_count": 29,
   "metadata": {},
   "outputs": [
    {
     "name": "stdout",
     "output_type": "stream",
     "text": [
      "bob\n",
      "true\n"
     ]
    }
   ],
   "source": [
    "def check(s):\n",
    "\n",
    "        i,e = 0,len(s)-1\n",
    "        while(i<=e):\n",
    "            if s[i] != s[e]:\n",
    "                return False\n",
    "            i+=1\n",
    "            e-=1\n",
    "        return True\n",
    "s = input()\n",
    "if check(s):\n",
    "    print(\"true\")\n",
    "else:\n",
    "    print(\"false\")\n"
   ]
  },
  {
   "cell_type": "markdown",
   "metadata": {},
   "source": [
    "Q2.)Print all substrings"
   ]
  },
  {
   "cell_type": "code",
   "execution_count": 31,
   "metadata": {},
   "outputs": [
    {
     "name": "stdout",
     "output_type": "stream",
     "text": [
      "abc\n",
      "a\n",
      "ab\n",
      "abc\n",
      "b\n",
      "bc\n",
      "c\n"
     ]
    }
   ],
   "source": [
    "s = input()\n",
    "i = 0\n",
    "while(i<len(s)):\n",
    "    j = i+1\n",
    "    while(j<=len(s)):\n",
    "        print(s[i:j])\n",
    "        j+=1\n",
    "    i+=1\n",
    "\n",
    "        "
   ]
  },
  {
   "cell_type": "markdown",
   "metadata": {},
   "source": [
    "Q3.)Swap Alternate"
   ]
  },
  {
   "cell_type": "code",
   "execution_count": 45,
   "metadata": {},
   "outputs": [
    {
     "name": "stdout",
     "output_type": "stream",
     "text": [
      "1\n",
      "4\n",
      "1 2 3 4\n",
      "2 1 4 3 \n"
     ]
    }
   ],
   "source": [
    "t = int(input())\n",
    "\n",
    "while(t):\n",
    "    n = int(input())\n",
    "    l = [int(i) for i in input().split()]\n",
    "    for i in range(0,n-1,2):\n",
    "        temp = l[i]\n",
    "        l[i] = l[i+1]\n",
    "        l[i+1] = temp\n",
    "    for i in l:\n",
    "        print(i,end=\" \")\n",
    "    print()\n",
    "    t-=1"
   ]
  },
  {
   "cell_type": "markdown",
   "metadata": {},
   "source": [
    "Q4.)Array equilibrium index - Find and return the equilibrium index of an array. Equilibrium index of an array is an index i such that the sum of elements at indices less than i is equal to the sum of elements at indices greater than i.\n",
    "Element at index i is not included in either part.\n",
    "If more than one equilibrium index is present, you need to return the first one. And return -1 if no equilibrium index is present."
   ]
  },
  {
   "cell_type": "code",
   "execution_count": 1,
   "metadata": {},
   "outputs": [
    {
     "name": "stdout",
     "output_type": "stream",
     "text": [
      "7\n",
      "-7 1 5 2 -4 3 0\n",
      "3\n"
     ]
    }
   ],
   "source": [
    "n=int(input())\n",
    "l=[int(x) for x in input().split()]\n",
    "\n",
    "sum=0\n",
    "\n",
    "i=0\n",
    "leftsum=0\n",
    "for i in range(n):\n",
    "    sum=sum+l[i]\n",
    "    \n",
    "for i in range(n):\n",
    "    sum=sum-l[i]\n",
    "    if leftsum==sum:\n",
    "        print(i)\n",
    "        break\n",
    "    leftsum=leftsum+l[i]\n"
   ]
  },
  {
   "cell_type": "markdown",
   "metadata": {},
   "source": [
    "Q5.)Row wise sum - For a given two-dimensional integer array/list of size (N x M), find and print the sum of each of the row elements in a single line, separated by a single space.\n"
   ]
  },
  {
   "cell_type": "code",
   "execution_count": 1,
   "metadata": {},
   "outputs": [
    {
     "name": "stdout",
     "output_type": "stream",
     "text": [
      "1\n",
      "2 5\n",
      "4 5 3 2 6\n",
      "7 5 3 8 9\n",
      "20 32 \n"
     ]
    }
   ],
   "source": [
    "def rsum(l,rows,cols):\n",
    "    for i in range(rows):\n",
    "        rowsum = 0\n",
    "        for j in range(cols):\n",
    "            rowsum+=l[i][j]\n",
    "        print(rowsum,end=\" \")\n",
    "\n",
    "t = int(input())\n",
    "while(t):\n",
    "    sizes = input().split()\n",
    "    rows = int(sizes[0])\n",
    "    cols = int(sizes[1])\n",
    "    \n",
    "    l = []\n",
    "    for i in range(rows):\n",
    "        nextrow = [int(j) for j in input().split()]\n",
    "        l.append(nextrow)\n",
    "        \n",
    "    rsum(l,rows,cols)\n",
    "    print()    \n",
    "    t-=1"
   ]
  },
  {
   "cell_type": "markdown",
   "metadata": {},
   "source": [
    "Q6.)Wave Print - For a given two-dimensional integer array/list of size (N x M), print the array/list in a sine wave order, i.e, print the first column top to bottom, next column bottom to top and so on."
   ]
  },
  {
   "cell_type": "code",
   "execution_count": 2,
   "metadata": {},
   "outputs": [
    {
     "name": "stdout",
     "output_type": "stream",
     "text": [
      "2\n",
      "5 3\n",
      "1 2 3\n",
      "4 5 6\n",
      "7 8 9\n",
      "10 11 12\n",
      "13 14 15\n",
      "1 4 7 10 13 14 11 8 5 2 3 6 9 12 15 \n",
      "3 3\n",
      "10 20 30\n",
      "40 50 60\n",
      "70 80 90\n",
      "10 40 70 80 50 20 30 60 90 \n"
     ]
    }
   ],
   "source": [
    "def wavePrint(mat, nRows, mCols):\n",
    "    #Your code goes here\n",
    "\n",
    "\tfor i in range(mCols):\n",
    "        \n",
    "            if(i%2==0) :\n",
    "                for j in range(0,nRows):\n",
    "                    print(mat[j][i],end = \" \")\n",
    "            else : \n",
    "                for j in range(nRows-1,-1,-1):\n",
    "                    print(mat[j][i],end = \" \")\n",
    "\n",
    "\n",
    "t = int(input())\n",
    "\n",
    "while(t>0):\n",
    "    mat = []\n",
    "    size = input().split()\n",
    "    rows = int(size[0])\n",
    "    col = int(size[1])\n",
    "    for i in range(rows):\n",
    "        nextrow = [int(i) for i in input().split()]\n",
    "        mat.append(nextrow)\n",
    "    \n",
    "    wavePrint(mat,rows,col)\n",
    "    print()\n",
    "    t-=1"
   ]
  },
  {
   "cell_type": "markdown",
   "metadata": {},
   "source": [
    "Q7.)Remove Consecutive Duplicates"
   ]
  },
  {
   "cell_type": "code",
   "execution_count": 39,
   "metadata": {},
   "outputs": [
    {
     "name": "stdout",
     "output_type": "stream",
     "text": [
      "aabccbaa\n",
      "['a', 'a', 'b', 'c', 'c', 'b', 'a', 'a']\n",
      "abcba"
     ]
    }
   ],
   "source": [
    "l = [i for i in input()]\n",
    "a = [l[0]]\n",
    "for i in range(1,len(l)):\n",
    "    if(l[i] == a[len(a)-1]):\n",
    "        continue\n",
    "    else:\n",
    "        a.append(l[i])\n",
    "for i in a:\n",
    "    print(i,end=\"\")\n",
    "    "
   ]
  },
  {
   "cell_type": "markdown",
   "metadata": {},
   "source": [
    "Q8.)Reverse Each Word"
   ]
  },
  {
   "cell_type": "code",
   "execution_count": 46,
   "metadata": {},
   "outputs": [
    {
     "name": "stdout",
     "output_type": "stream",
     "text": [
      "Eye of the tiger\n",
      "eyE fo eht regit\n"
     ]
    }
   ],
   "source": [
    "s = input()\n",
    "\n",
    "i = 0\n",
    "j = -(len(s)+1)\n",
    "while(i<len(s)):\n",
    "    \n",
    "    if s[i] == \" \":\n",
    "        print(s[i-1:j:-1],end=\" \")\n",
    "        j = i\n",
    "    i+=1\n",
    "print(s[i:j:-1])"
   ]
  },
  {
   "cell_type": "code",
   "execution_count": 47,
   "metadata": {},
   "outputs": [
    {
     "name": "stdout",
     "output_type": "stream",
     "text": [
      "Eye of the tiger\n",
      "eyE fo eht regit "
     ]
    }
   ],
   "source": [
    "# Alternate solution\n",
    "def rev(s):\n",
    "    print(s[::-1],end=\" \")\n",
    "    \n",
    "s = input()\n",
    "l = s.split(\" \")\n",
    "\n",
    "for i in l:\n",
    "    rev(i)"
   ]
  },
  {
   "cell_type": "markdown",
   "metadata": {},
   "source": [
    "Q9.)Highest Occurring Character - Given a string, S, find and return the highest occurring character present in the given string.\n",
    "If there are 2 characters in the input string with same frequency, return the character which comes first.\n",
    "\n",
    "\n",
    "Note : Assume all the characters in the given string are lowercase."
   ]
  },
  {
   "cell_type": "code",
   "execution_count": 9,
   "metadata": {},
   "outputs": [
    {
     "name": "stdout",
     "output_type": "stream",
     "text": [
      "abdefgbabfba\n",
      "b\n"
     ]
    }
   ],
   "source": [
    "ASCII_SIZE = 256\n",
    "  \n",
    "def getMaxOccuringChar(str): \n",
    "    count = [0] * ASCII_SIZE \n",
    "    max = -1\n",
    "    c = '' \n",
    "    for i in str: \n",
    "        count[ord(i)]+=1; \n",
    "    for i in str: \n",
    "        if max < count[ord(i)]: \n",
    "            max = count[ord(i)] \n",
    "            c = i \n",
    "    return c \n",
    "\n",
    "str = input()\n",
    "print(getMaxOccuringChar(str) )"
   ]
  },
  {
   "cell_type": "code",
   "execution_count": 8,
   "metadata": {},
   "outputs": [
    {
     "name": "stdout",
     "output_type": "stream",
     "text": [
      "abdefgbabfba\n",
      "b\n"
     ]
    }
   ],
   "source": [
    "#Alternate Solution\n",
    "import collections\n",
    "s = input()\n",
    "l = (collections.Counter(s).most_common(1)[0])\n",
    "print(l[0])"
   ]
  },
  {
   "cell_type": "markdown",
   "metadata": {},
   "source": [
    "Q10.)Arrange Numbers in the Array"
   ]
  },
  {
   "cell_type": "code",
   "execution_count": 6,
   "metadata": {
    "scrolled": true
   },
   "outputs": [
    {
     "name": "stdout",
     "output_type": "stream",
     "text": [
      "2\n",
      "9\n",
      "1 3 5 7 9 8 6 4 2 \n",
      "3\n",
      "1 3 2 \n"
     ]
    }
   ],
   "source": [
    "import math\n",
    "\n",
    "def show(n):\n",
    "    odd = math.ceil(n/2)\n",
    "    even = math.floor(n/2)\n",
    "\n",
    "    for i in range(0,odd):\n",
    "        print((2*i)+1,end = \" \")\n",
    "\n",
    "    for i in range(even,0,-1):\n",
    "        print((2*i),end = \" \")\n",
    "\n",
    "t = int(input())\n",
    "while(t>0):\n",
    "    n = int(input())\n",
    "    show(n)\n",
    "    print()\n",
    "    t-=1"
   ]
  },
  {
   "cell_type": "markdown",
   "metadata": {},
   "source": [
    "Q11.)Leaders in array"
   ]
  },
  {
   "cell_type": "code",
   "execution_count": 2,
   "metadata": {},
   "outputs": [
    {
     "name": "stdout",
     "output_type": "stream",
     "text": [
      "5\n",
      "13 17 5 4 6\n",
      "17 6 "
     ]
    }
   ],
   "source": [
    "def Leaders(l,length) :\n",
    "    if length == 0:\n",
    "        return\n",
    "    \n",
    "    m = l.index(max(l))\n",
    "    \n",
    "    print(l[m],end = \" \")\n",
    "    \n",
    "    Leaders(l[m+1:],length-m-1)\n",
    "    \n",
    "n = int(input())\n",
    "\n",
    "l = [int(i) for i in input().split()]\n",
    "\n",
    "Leaders(l,n)\n",
    "     \n",
    "    "
   ]
  },
  {
   "cell_type": "code",
   "execution_count": null,
   "metadata": {},
   "outputs": [],
   "source": []
  },
  {
   "cell_type": "code",
   "execution_count": null,
   "metadata": {},
   "outputs": [],
   "source": []
  },
  {
   "cell_type": "markdown",
   "metadata": {},
   "source": [
    "Q13.)Largest Row or Column"
   ]
  },
  {
   "cell_type": "code",
   "execution_count": null,
   "metadata": {},
   "outputs": [],
   "source": []
  },
  {
   "cell_type": "code",
   "execution_count": 13,
   "metadata": {},
   "outputs": [
    {
     "name": "stdout",
     "output_type": "stream",
     "text": [
      "[60, 5]\n"
     ]
    }
   ],
   "source": [
    "l = [[60,1],[60,5],[60,2]]\n",
    "print(max(l))"
   ]
  },
  {
   "cell_type": "code",
   "execution_count": null,
   "metadata": {},
   "outputs": [],
   "source": []
  },
  {
   "cell_type": "code",
   "execution_count": 1,
   "metadata": {},
   "outputs": [
    {
     "ename": "SyntaxError",
     "evalue": "invalid syntax (<ipython-input-1-cb0196f177a6>, line 45)",
     "output_type": "error",
     "traceback": [
      "\u001b[1;36m  File \u001b[1;32m\"<ipython-input-1-cb0196f177a6>\"\u001b[1;36m, line \u001b[1;32m45\u001b[0m\n\u001b[1;33m    end_widthturn list(), 0, 0\u001b[0m\n\u001b[1;37m                     ^\u001b[0m\n\u001b[1;31mSyntaxError\u001b[0m\u001b[1;31m:\u001b[0m invalid syntax\n"
     ]
    }
   ],
   "source": [
    "from sys import stdin\n",
    "\n",
    "def spiralPrint(mat, nRows, mCols):\n",
    "        start_width = 0\n",
    "        end_width = mCols-1\n",
    "        start_height = 0\n",
    "        end_height = nRows-1\n",
    "    \n",
    "        dir = 0\n",
    "    \n",
    "        while(start_width<=end_width and start_height<=end_height):\n",
    "            if(dir == 0):\n",
    "                for i in range(start_width,end_width+1):\n",
    "                    print(mat[start_width][i],end=\" \")\n",
    "                end_width-=1\n",
    "                \n",
    "            if(dir == 1):\n",
    "                for i in range(start_height,end_height):\n",
    "                    print(mat[i][end_height],end =\" \")\n",
    "                end_height-=1\n",
    "\n",
    "            if(dir == 2):\n",
    "                for i in range(end_width,start_width,-1):\n",
    "                    print(mat[endwidth][i],end=\" \")\n",
    "                start_width+=1\n",
    "\n",
    "            if(dir == 3):\n",
    "                for i in range(end_height,start_height,-1):\n",
    "                    print(mat[i][start_height],end=\" \")\n",
    "                start_height+=1    \t\n",
    "\n",
    "\n",
    "\n",
    "\n",
    "\n",
    "\n",
    "\n",
    "#Taking Input Using Fast I/O\n",
    "def take2DInput() :\n",
    "    li = stdin.end_widthadline().start_widthtrip().split(\" \")\n",
    "    nRows = int(li[0])\n",
    "    mCols = int(li[1])\n",
    "    \n",
    "    if nRows == 0 :\n",
    "        end_widthturn list(), 0, 0\n",
    "    \n",
    "    mat = [list(map(int, input().strip().split(\" \"))) for row in range(nRows)]\n",
    "    end_widthturn mat, nRows, mCols\n",
    "\n",
    "\n",
    "#main\n",
    "t = int(stdin.end_widthadline().start_widthtrip())\n",
    "\n",
    "while t > 0 :\n",
    "\n",
    "    mat, nRows, mCols = take2DInput()\n",
    "    spiralPrint(mat, nRows, mCols)\n",
    "    print()\n",
    "\n",
    "    t -= 1"
   ]
  },
  {
   "cell_type": "code",
   "execution_count": null,
   "metadata": {},
   "outputs": [],
   "source": []
  }
 ],
 "metadata": {
  "kernelspec": {
   "display_name": "Python 3",
   "language": "python",
   "name": "python3"
  },
  "language_info": {
   "codemirror_mode": {
    "name": "ipython",
    "version": 3
   },
   "file_extension": ".py",
   "mimetype": "text/x-python",
   "name": "python",
   "nbconvert_exporter": "python",
   "pygments_lexer": "ipython3",
   "version": "3.7.4"
  }
 },
 "nbformat": 4,
 "nbformat_minor": 2
}
