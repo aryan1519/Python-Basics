{
 "cells": [
  {
   "cell_type": "markdown",
   "metadata": {},
   "source": [
    "Q1.)Terms of AP - \n",
    "Write a program to print first x terms of the series 3N + 2 which are not multiples of 4."
   ]
  },
  {
   "cell_type": "code",
   "execution_count": 1,
   "metadata": {},
   "outputs": [
    {
     "name": "stdout",
     "output_type": "stream",
     "text": [
      "5\n",
      "5 11 14 17 23 "
     ]
    }
   ],
   "source": [
    "c = 0\n",
    "n = int(input())\n",
    "i = 1\n",
    "while c<n:\n",
    "    if ((3*i)+2)%4 != 0:\n",
    "        print((3*i)+2,end = \" \")\n",
    "        c = c+1\n",
    "    i = i+1\n",
    "    "
   ]
  },
  {
   "cell_type": "markdown",
   "metadata": {},
   "source": [
    "Q2.)Sum or product"
   ]
  },
  {
   "cell_type": "code",
   "execution_count": 8,
   "metadata": {},
   "outputs": [
    {
     "name": "stdout",
     "output_type": "stream",
     "text": [
      "10\n",
      "2\n",
      "3628800\n"
     ]
    }
   ],
   "source": [
    "n = int(input())\n",
    "c = int(input())\n",
    "\n",
    "if c == 1:\n",
    "    sum = 0\n",
    "    for i in range (1,n+1,1):\n",
    "        sum+=i\n",
    "    print(sum)\n",
    "elif c == 2:\n",
    "    pro = 1\n",
    "    for i in range (1,n+1,1):\n",
    "        pro*=i\n",
    "    print(pro)\n",
    "else:\n",
    "    print(-1)"
   ]
  },
  {
   "cell_type": "markdown",
   "metadata": {},
   "source": [
    "Q3.)Square root (Integral) - Given a number N, find its square root. You need to find and print only the integral part of square root of N.\n",
    "For eg. if number given is 18, answer is 4."
   ]
  },
  {
   "cell_type": "code",
   "execution_count": 11,
   "metadata": {},
   "outputs": [
    {
     "name": "stdout",
     "output_type": "stream",
     "text": [
      "5\n",
      "2\n"
     ]
    }
   ],
   "source": [
    "n = int(input())\n",
    "print(int(n**0.5))"
   ]
  },
  {
   "cell_type": "markdown",
   "metadata": {},
   "source": [
    "Q4.)Decimal to Binary"
   ]
  },
  {
   "cell_type": "code",
   "execution_count": 2,
   "metadata": {},
   "outputs": [
    {
     "name": "stdout",
     "output_type": "stream",
     "text": [
      "12\n",
      "1100\n"
     ]
    }
   ],
   "source": [
    "n = int(input())\n",
    "\n",
    "rem = 0\n",
    "pow = 0\n",
    "sum = 0\n",
    "while(n!=0):\n",
    "    rem = n%2\n",
    "    n = n//2\n",
    "    pow = pow+1\n",
    "    sum = sum+(rem*(10**(pow-1)))\n",
    "\n",
    "print(sum)"
   ]
  },
  {
   "cell_type": "markdown",
   "metadata": {},
   "source": [
    "Q5.)Binary to Decimal"
   ]
  },
  {
   "cell_type": "code",
   "execution_count": 5,
   "metadata": {},
   "outputs": [
    {
     "name": "stdout",
     "output_type": "stream",
     "text": [
      "101\n",
      "5\n"
     ]
    }
   ],
   "source": [
    "n = int(input())\n",
    "i = 0\n",
    "sum = 0\n",
    "last = 0\n",
    "while(n!=0):\n",
    "    last = n%10\n",
    "    sum = sum + ((2**i)*last)\n",
    "    i = i+1\n",
    "    n = n//10\n",
    "print(sum)"
   ]
  },
  {
   "cell_type": "markdown",
   "metadata": {},
   "source": [
    "Q6.)Even Fibonacci Numbers"
   ]
  },
  {
   "cell_type": "code",
   "execution_count": 3,
   "metadata": {},
   "outputs": [
    {
     "name": "stdout",
     "output_type": "stream",
     "text": [
      "20\n",
      "10\n"
     ]
    }
   ],
   "source": [
    "def fibo(n):\n",
    "    sum = 0\n",
    "    if(n<=1):\n",
    "        return sum\n",
    "    fib1,fib2 = 1,1\n",
    "    fib1,fib2 = fib2,fib1+fib2\n",
    "    while(fib2<=n):\n",
    "        if(fib2%2 == 0):\n",
    "            sum+=fib2\n",
    "        fib1,fib2 = fib2,fib1+fib2\n",
    "    return sum\n",
    "print(fibo(int(input())))\n"
   ]
  },
  {
   "cell_type": "markdown",
   "metadata": {},
   "source": [
    "Q7.)Trailing zeroes in n!"
   ]
  },
  {
   "cell_type": "code",
   "execution_count": 5,
   "metadata": {},
   "outputs": [
    {
     "name": "stdout",
     "output_type": "stream",
     "text": [
      "50\n",
      "12\n"
     ]
    }
   ],
   "source": [
    "n = int(input())\n",
    "sum = 0 \n",
    "power = 5\n",
    "while(n>=power):\n",
    "    sum += n//power\n",
    "    power*=5\n",
    "print(sum)"
   ]
  },
  {
   "cell_type": "markdown",
   "metadata": {},
   "source": []
  }
 ],
 "metadata": {
  "kernelspec": {
   "display_name": "Python 3",
   "language": "python",
   "name": "python3"
  },
  "language_info": {
   "codemirror_mode": {
    "name": "ipython",
    "version": 3
   },
   "file_extension": ".py",
   "mimetype": "text/x-python",
   "name": "python",
   "nbconvert_exporter": "python",
   "pygments_lexer": "ipython3",
   "version": "3.7.4"
  }
 },
 "nbformat": 4,
 "nbformat_minor": 2
}
