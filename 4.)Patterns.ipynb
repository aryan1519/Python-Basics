{
 "cells": [
  {
   "cell_type": "markdown",
   "metadata": {},
   "source": [
    "Q1.)Square Pattern"
   ]
  },
  {
   "cell_type": "code",
   "execution_count": 1,
   "metadata": {},
   "outputs": [
    {
     "name": "stdout",
     "output_type": "stream",
     "text": [
      "4\n",
      "4444\n",
      "4444\n",
      "4444\n",
      "4444\n"
     ]
    }
   ],
   "source": [
    "n = int(input())\n",
    "i = 1\n",
    "while(i<=n):\n",
    "    j = 1\n",
    "    while(j<=n):\n",
    "        print(n,end=\"\")\n",
    "        j+=1\n",
    "    i+=1\n",
    "    print()"
   ]
  },
  {
   "cell_type": "markdown",
   "metadata": {},
   "source": [
    "Q2.)Triangular Star Pattern\n",
    "    "
   ]
  },
  {
   "cell_type": "code",
   "execution_count": 5,
   "metadata": {},
   "outputs": [
    {
     "name": "stdout",
     "output_type": "stream",
     "text": [
      "4\n",
      "*\n",
      "**\n",
      "***\n",
      "****\n"
     ]
    }
   ],
   "source": [
    "n = int(input())\n",
    "i = 1\n",
    "while(i<=n):\n",
    "    j = 1\n",
    "    while(j<=i):\n",
    "        print('*',end=\"\")\n",
    "        j+=1\n",
    "    i+=1\n",
    "    print()"
   ]
  },
  {
   "cell_type": "markdown",
   "metadata": {},
   "source": [
    "Q3.)Triangle Number Pattern"
   ]
  },
  {
   "cell_type": "code",
   "execution_count": 6,
   "metadata": {},
   "outputs": [
    {
     "name": "stdout",
     "output_type": "stream",
     "text": [
      "4\n",
      "1\n",
      "22\n",
      "333\n",
      "4444\n"
     ]
    }
   ],
   "source": [
    "n = int(input())\n",
    "i = 1\n",
    "while(i<=n):\n",
    "    j = 1\n",
    "    while(j<=i):\n",
    "        print(i,end=\"\")\n",
    "        j+=1\n",
    "    i+=1\n",
    "    print()"
   ]
  },
  {
   "cell_type": "markdown",
   "metadata": {},
   "source": [
    "Q4.)Reverse Number Pattern"
   ]
  },
  {
   "cell_type": "code",
   "execution_count": 7,
   "metadata": {},
   "outputs": [
    {
     "name": "stdout",
     "output_type": "stream",
     "text": [
      "4\n",
      "1\n",
      "21\n",
      "321\n",
      "4321\n"
     ]
    }
   ],
   "source": [
    "n = int(input())\n",
    "i = 1\n",
    "while(i<=n):\n",
    "    j = i\n",
    "    while(j>=1):\n",
    "        print(j,end=\"\")\n",
    "        j-=1\n",
    "    i+=1\n",
    "    print()"
   ]
  },
  {
   "cell_type": "markdown",
   "metadata": {},
   "source": [
    "Q5.)Alpha Pattern"
   ]
  },
  {
   "cell_type": "code",
   "execution_count": 17,
   "metadata": {},
   "outputs": [
    {
     "name": "stdout",
     "output_type": "stream",
     "text": [
      "3\n",
      "A\n",
      "BB\n",
      "CCC\n"
     ]
    }
   ],
   "source": [
    "n = int(input())\n",
    "i=1\n",
    "k=65\n",
    "while(i<=n):\n",
    "    j=1\n",
    "    while(j<=i):\n",
    "        print(chr(k),end=\"\")\n",
    "        j+=1\n",
    "    k+=1\n",
    "    i+=1\n",
    "    print()\n",
    "    "
   ]
  },
  {
   "cell_type": "markdown",
   "metadata": {},
   "source": [
    "Q6.)Character Pattern"
   ]
  },
  {
   "cell_type": "code",
   "execution_count": 20,
   "metadata": {},
   "outputs": [
    {
     "name": "stdout",
     "output_type": "stream",
     "text": [
      "4\n",
      "A\n",
      "BC\n",
      "CDE\n",
      "DEFG\n"
     ]
    }
   ],
   "source": [
    "n = int(input())\n",
    "i=0\n",
    "k=65\n",
    "while(i<n):\n",
    "    j=0\n",
    "    k = 65+i\n",
    "    while(j<=i):\n",
    "        print(chr(65+i+j),end=\"\")\n",
    "        j+=1\n",
    "    i+=1\n",
    "    print()\n",
    "    "
   ]
  },
  {
   "cell_type": "markdown",
   "metadata": {},
   "source": [
    "Q7.)Interesting Alphabets"
   ]
  },
  {
   "cell_type": "code",
   "execution_count": 24,
   "metadata": {},
   "outputs": [
    {
     "name": "stdout",
     "output_type": "stream",
     "text": [
      "5\n",
      "E\n",
      "DE\n",
      "CDE\n",
      "BCDE\n",
      "ABCDE\n"
     ]
    }
   ],
   "source": [
    "n = int(input())\n",
    "\n",
    "i = n\n",
    "while(i>=1):\n",
    "    k = 65+i-1\n",
    "    j=n\n",
    "    while(j>=i):\n",
    "        print(chr(k),end=\"\")\n",
    "        k+=1\n",
    "        j-=1\n",
    "    print()\n",
    "    i-=1\n"
   ]
  },
  {
   "cell_type": "markdown",
   "metadata": {},
   "source": [
    "Q8.)Inverted Number Pattern"
   ]
  },
  {
   "cell_type": "code",
   "execution_count": 28,
   "metadata": {},
   "outputs": [
    {
     "name": "stdout",
     "output_type": "stream",
     "text": [
      "4\n",
      "4444\n",
      "333\n",
      "22\n",
      "1\n"
     ]
    }
   ],
   "source": [
    "n = int(input())\n",
    "i = n\n",
    "while(i>=1):\n",
    "    j=1\n",
    "    while(j<=i):\n",
    "        print(i,end=\"\")\n",
    "        j+=1\n",
    "    print()\n",
    "    i-=1"
   ]
  },
  {
   "cell_type": "markdown",
   "metadata": {},
   "source": [
    "Q9.)Mirror Number Pattern"
   ]
  },
  {
   "cell_type": "code",
   "execution_count": 5,
   "metadata": {},
   "outputs": [
    {
     "name": "stdout",
     "output_type": "stream",
     "text": [
      "4\n",
      "   1\n",
      "  12\n",
      " 123\n",
      "1234\n"
     ]
    }
   ],
   "source": [
    "n = int(input())\n",
    "i=1\n",
    "while(i<=n):\n",
    "    j = 1\n",
    "    while(j<=n-i):\n",
    "        print(\" \",end=\"\")\n",
    "        j+=1\n",
    "    j=1\n",
    "    while(j<=i):\n",
    "        print(j,end=\"\")\n",
    "        j+=1\n",
    "    i+=1\n",
    "    print()\n"
   ]
  },
  {
   "cell_type": "markdown",
   "metadata": {},
   "source": [
    "Q10.)Star Pattern"
   ]
  },
  {
   "cell_type": "code",
   "execution_count": 4,
   "metadata": {},
   "outputs": [
    {
     "name": "stdout",
     "output_type": "stream",
     "text": [
      "4\n",
      "   *\n",
      "  ***\n",
      " *****\n",
      "*******\n"
     ]
    }
   ],
   "source": [
    "n = int(input())\n",
    "i=1\n",
    "while(i<=n):\n",
    "    j = 1\n",
    "    while(j<=n-i):\n",
    "        print(\" \",end=\"\")\n",
    "        j+=1\n",
    "    j=1\n",
    "    while(j<=i):\n",
    "        print('*',end=\"\")\n",
    "        j+=1\n",
    "    j-=2\n",
    "    while(j>=1):\n",
    "        print('*',end=\"\")\n",
    "        j-=1\n",
    "    i+=1\n",
    "    print()\n"
   ]
  },
  {
   "cell_type": "markdown",
   "metadata": {},
   "source": [
    "Q11.)Triangle of Numbers"
   ]
  },
  {
   "cell_type": "code",
   "execution_count": 6,
   "metadata": {},
   "outputs": [
    {
     "name": "stdout",
     "output_type": "stream",
     "text": [
      "4\n",
      "   1\n",
      "  232\n",
      " 34543\n",
      "4567654\n"
     ]
    }
   ],
   "source": [
    "n = int(input())\n",
    "i=1\n",
    "while(i<=n):\n",
    "    j = 1\n",
    "    while(j<=n-i):\n",
    "        print(\" \",end=\"\")\n",
    "        j+=1\n",
    "    j=1\n",
    "    k=i\n",
    "    while(j<=i):\n",
    "        print(k,end=\"\")\n",
    "        k+=1\n",
    "        j+=1\n",
    "    k-=2\n",
    "    j=1\n",
    "    while(j<i):\n",
    "        print(k,end=\"\")\n",
    "        j+=1\n",
    "        k-=1\n",
    "    i+=1\n",
    "    print()"
   ]
  },
  {
   "cell_type": "markdown",
   "metadata": {},
   "source": [
    "Q12.)Diamond of stars"
   ]
  },
  {
   "cell_type": "code",
   "execution_count": 10,
   "metadata": {},
   "outputs": [
    {
     "name": "stdout",
     "output_type": "stream",
     "text": [
      "5\n",
      "  *\n",
      " ***\n",
      "*****\n",
      " ***\n",
      "  *\n"
     ]
    }
   ],
   "source": [
    "n = int(input())\n",
    "up = (n+1)//2\n",
    "down = n//2\n",
    "\n",
    "i = 1\n",
    "while(i<=up):\n",
    "    j=1\n",
    "    while(j<=up-i):\n",
    "        print(\" \",end=\"\")\n",
    "        j+=1\n",
    "\n",
    "    j=1\n",
    "    while(j<=(2*i)-1):\n",
    "        print(\"*\",end=\"\")\n",
    "        j+=1\n",
    "    print()\n",
    "    i+=1\n",
    "\n",
    "i=down\n",
    "while(i>=1):\n",
    "    j=1\n",
    "    while(j<=(down-i+1)):\n",
    "        print(\" \",end=\"\")\n",
    "        j+=1\n",
    "    j=1\n",
    "    while(j<=(2*i)-1):\n",
    "        print(\"*\",end=\"\")\n",
    "        j+=1\n",
    "    i-=1\n",
    "    print()"
   ]
  },
  {
   "cell_type": "markdown",
   "metadata": {},
   "source": [
    "Q12.)Alternate solution"
   ]
  },
  {
   "cell_type": "code",
   "execution_count": null,
   "metadata": {},
   "outputs": [],
   "source": [
    "import math\n",
    "n = int(input())\n",
    "rows = math.ceil(n/2)\n",
    "\n",
    "i = 1\n",
    "\n",
    "while(i<=rows):\n",
    "    j=i\n",
    "    while(j<rows):\n",
    "        print(\" \",end=\"\")\n",
    "        j+=1\n",
    "    j=1\n",
    "    while(j<=i):\n",
    "        print(\"*\",end=\"\")\n",
    "        j+=1\n",
    "    j=1\n",
    "    while(j<i):\n",
    "        print(\"*\",end=\"\")\n",
    "        j+=1\n",
    "    print()\n",
    "    i+=1\n",
    "\n",
    "rows = n-i+1\n",
    "i=1\n",
    "while(i<=rows):\n",
    "    j=1\n",
    "    while(j<=i):\n",
    "        print(\" \",end=\"\")\n",
    "        j+=1\n",
    "    j=rows\n",
    "    while(j>=i):\n",
    "        print(\"*\",end=\"\")\n",
    "        j-=1\n",
    "    j=rows-1\n",
    "    while(j>=i):\n",
    "        print(\"*\",end=\"\")\n",
    "        j-=1\n",
    "    i+=1\n",
    "    print()"
   ]
  },
  {
   "cell_type": "code",
   "execution_count": null,
   "metadata": {},
   "outputs": [],
   "source": []
  }
 ],
 "metadata": {
  "kernelspec": {
   "display_name": "Python 3",
   "language": "python",
   "name": "python3"
  },
  "language_info": {
   "codemirror_mode": {
    "name": "ipython",
    "version": 3
   },
   "file_extension": ".py",
   "mimetype": "text/x-python",
   "name": "python",
   "nbconvert_exporter": "python",
   "pygments_lexer": "ipython3",
   "version": "3.7.4"
  }
 },
 "nbformat": 4,
 "nbformat_minor": 2
}
