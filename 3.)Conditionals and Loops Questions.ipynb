{
 "cells": [
  {
   "cell_type": "markdown",
   "metadata": {},
   "source": [
    "Q1.)Check Number - find if n is positive, negative or 0."
   ]
  },
  {
   "cell_type": "code",
   "execution_count": 1,
   "metadata": {},
   "outputs": [
    {
     "name": "stdout",
     "output_type": "stream",
     "text": [
      "5\n",
      "Positive\n"
     ]
    }
   ],
   "source": [
    "n = int(input())\n",
    "\n",
    "if n>0:\n",
    "    print(\"Positive\")\n",
    "elif n<0:\n",
    "    print(\"Negative\")\n",
    "else:\n",
    "    print(\"Zero\")"
   ]
  },
  {
   "cell_type": "markdown",
   "metadata": {},
   "source": [
    "Q2.)Sum of n numbers"
   ]
  },
  {
   "cell_type": "code",
   "execution_count": 2,
   "metadata": {},
   "outputs": [
    {
     "name": "stdout",
     "output_type": "stream",
     "text": [
      "10\n",
      "55\n"
     ]
    }
   ],
   "source": [
    "n = int(input())\n",
    "sum = 0 \n",
    "while n>0 :\n",
    "    sum = sum + n\n",
    "    n = n-1\n",
    "print(sum)"
   ]
  },
  {
   "cell_type": "markdown",
   "metadata": {},
   "source": [
    "Q3.)Sum of even number"
   ]
  },
  {
   "cell_type": "code",
   "execution_count": 3,
   "metadata": {},
   "outputs": [
    {
     "name": "stdout",
     "output_type": "stream",
     "text": [
      "5\n",
      "6\n"
     ]
    }
   ],
   "source": [
    "n = int(input())\n",
    "sum = 0 \n",
    "while n>0 : \n",
    "    if n % 2 == 0:\n",
    "        sum+=n\n",
    "        n = n-1\n",
    "    else :\n",
    "        n = n-1\n",
    "print(sum)\n",
    "        \n",
    "    "
   ]
  },
  {
   "cell_type": "markdown",
   "metadata": {},
   "source": [
    "Q4.)Fahrenheit to Celsius\n",
    "        "
   ]
  },
  {
   "cell_type": "code",
   "execution_count": 4,
   "metadata": {},
   "outputs": [
    {
     "name": "stdout",
     "output_type": "stream",
     "text": [
      "0\n",
      "100\n",
      "20\n",
      "0 \t -17\n",
      "20 \t -6\n",
      "40 \t 4\n",
      "60 \t 15\n",
      "80 \t 26\n",
      "100 \t 37\n"
     ]
    }
   ],
   "source": [
    "S = int(input())\n",
    "E = int(input())\n",
    "W = int(input())\n",
    "\n",
    "while S<=E:\n",
    "    cel = (S-32)*(5/9)\n",
    "    print(S,\"\\t\",int(cel))\n",
    "    S+=W"
   ]
  },
  {
   "cell_type": "markdown",
   "metadata": {},
   "source": [
    "Q5.)Calculator\n"
   ]
  },
  {
   "cell_type": "code",
   "execution_count": 5,
   "metadata": {},
   "outputs": [
    {
     "name": "stdout",
     "output_type": "stream",
     "text": [
      "6\n"
     ]
    }
   ],
   "source": [
    "while True:\n",
    "    n = int(input())\n",
    "    \n",
    "    if n == 1 :\n",
    "        a = int(input())\n",
    "        b = int(input())        \n",
    "        print(a+b)\n",
    "    elif n == 2 :\n",
    "        a = int(input())\n",
    "        b = int(input())\n",
    "        print(a-b)\n",
    "    elif n == 3 :\n",
    "        a = int(input())\n",
    "        b = int(input())\n",
    "        print(a*b)\n",
    "    elif n == 4 :\n",
    "        a = int(input())\n",
    "        b = int(input())\n",
    "        print(a//b)\n",
    "    elif n == 5 :\n",
    "        a = int(input())\n",
    "        b = int(input())\n",
    "        print(a%b)\n",
    "    elif n == 6 :\n",
    "        break\n",
    "    else :\n",
    "        print(\"Invalid Operation\")\n",
    "        \n"
   ]
  },
  {
   "cell_type": "markdown",
   "metadata": {},
   "source": [
    "Q6.)Reverse of a number"
   ]
  },
  {
   "cell_type": "code",
   "execution_count": 2,
   "metadata": {},
   "outputs": [
    {
     "name": "stdout",
     "output_type": "stream",
     "text": [
      "123\n",
      "321\n"
     ]
    }
   ],
   "source": [
    "n = int(input())\n",
    "\n",
    "sum = 0\n",
    "\n",
    "while(n!=0) :\n",
    "    rem = n%10\n",
    "    sum = (sum*10)+rem\n",
    "    n = n//10\n",
    "print(sum)\n"
   ]
  },
  {
   "cell_type": "markdown",
   "metadata": {},
   "source": [
    "Q7.)Check Palindrome\n"
   ]
  },
  {
   "cell_type": "code",
   "execution_count": 5,
   "metadata": {},
   "outputs": [
    {
     "name": "stdout",
     "output_type": "stream",
     "text": [
      "121\n",
      "true\n"
     ]
    }
   ],
   "source": [
    "def rev(n):\n",
    "#Implement Your Code Here\n",
    "    sum = 0\n",
    "\n",
    "    while(n!=0) :\n",
    "        rem = n%10\n",
    "        sum = (sum*10)+rem\n",
    "        n = n//10\n",
    "    return sum\n",
    "\n",
    "n = int(input())\n",
    "ans = rev(n)\n",
    "\n",
    "if(n == ans):\n",
    "\tprint('true')\n",
    "else:\n",
    "\tprint('false')\n",
    "\n"
   ]
  },
  {
   "cell_type": "markdown",
   "metadata": {},
   "source": [
    "Q8.)Sum of even and odd numbers"
   ]
  },
  {
   "cell_type": "code",
   "execution_count": 7,
   "metadata": {},
   "outputs": [
    {
     "name": "stdout",
     "output_type": "stream",
     "text": [
      "1234\n",
      "6 4\n"
     ]
    }
   ],
   "source": [
    "n = int(input())\n",
    "evensum = 0\n",
    "oddsum = 0\n",
    "while(n!=0):\n",
    "    last = n%10\n",
    "    if(last%2 == 0):\n",
    "        evensum+=last\n",
    "    else:\n",
    "        oddsum+=last\n",
    "    n = n//10\n",
    "print(evensum,oddsum)\n",
    "\n"
   ]
  },
  {
   "cell_type": "markdown",
   "metadata": {},
   "source": [
    "Q9.)Nth Fibonacci number"
   ]
  },
  {
   "cell_type": "code",
   "execution_count": 8,
   "metadata": {},
   "outputs": [
    {
     "name": "stdout",
     "output_type": "stream",
     "text": [
      "5\n",
      "5\n"
     ]
    }
   ],
   "source": [
    "\n",
    "def Fibonacci(n): \n",
    "    if n<0: \n",
    "        print(\"Incorrect input\") \n",
    "    # First Fibonacci number is 0 \n",
    "    elif n==1: \n",
    "        return 1\n",
    "    # Second Fibonacci number is 1 \n",
    "    elif n==2: \n",
    "        return 1\n",
    "    else: \n",
    "        return Fibonacci(n-1)+Fibonacci(n-2) \n",
    "\n",
    "n = int(input())\n",
    "print(Fibonacci(n)) \n"
   ]
  },
  {
   "cell_type": "code",
   "execution_count": null,
   "metadata": {},
   "outputs": [],
   "source": []
  }
 ],
 "metadata": {
  "kernelspec": {
   "display_name": "Python 3",
   "language": "python",
   "name": "python3"
  },
  "language_info": {
   "codemirror_mode": {
    "name": "ipython",
    "version": 3
   },
   "file_extension": ".py",
   "mimetype": "text/x-python",
   "name": "python",
   "nbconvert_exporter": "python",
   "pygments_lexer": "ipython3",
   "version": "3.7.4"
  }
 },
 "nbformat": 4,
 "nbformat_minor": 2
}
