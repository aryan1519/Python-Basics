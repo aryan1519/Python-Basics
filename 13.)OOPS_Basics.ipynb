{
 "cells": [
  {
   "cell_type": "markdown",
   "metadata": {},
   "source": [
    "# OOPS"
   ]
  },
  {
   "cell_type": "markdown",
   "metadata": {},
   "source": [
    "##### Creating classes and objects"
   ]
  },
  {
   "cell_type": "code",
   "execution_count": 1,
   "metadata": {},
   "outputs": [],
   "source": [
    "#To make a class\n",
    "class Student:\n",
    "    pass\n",
    "\n",
    "#To make an object\n",
    "s1 = Student()\n",
    "s2 = Student()\n",
    "s3 = Student()"
   ]
  },
  {
   "cell_type": "markdown",
   "metadata": {},
   "source": [
    "##### INSTANCE ATTRIBUTES"
   ]
  },
  {
   "cell_type": "code",
   "execution_count": 2,
   "metadata": {},
   "outputs": [],
   "source": [
    "# Unlike Java and cpp in python objects do not need to have to same attributes,\n",
    "# they can have their own attributes.\n",
    "# In python we can even add attributes to an object outside to the class which sre specific\n",
    "# to the particular object only.\n",
    "# These are known as INSTANCE ATTRIBUTES"
   ]
  },
  {
   "cell_type": "code",
   "execution_count": 3,
   "metadata": {},
   "outputs": [],
   "source": [
    "s1.name = \"Aryan\"\n",
    "s1.age = 21\n",
    "\n",
    "s2.roll = 100\n",
    "\n",
    "# We can see that we have no defined these attributes in the class and have made specific\n",
    "# attributes for each object.\n",
    "\n",
    "#Python makes a dictionary for each object to store key value pairs.\n",
    "\n",
    "# We can get these dictionaries using object.__dict__"
   ]
  },
  {
   "cell_type": "code",
   "execution_count": 4,
   "metadata": {},
   "outputs": [],
   "source": [
    "print(s1.__dict__)\n",
    "print(s2.__dict__)\n",
    "print(s3.__dict__)"
   ]
  },
  {
   "cell_type": "code",
   "execution_count": 5,
   "metadata": {},
   "outputs": [],
   "source": [
    "# To access attributes of an object we can use '.'\n",
    "# If an instance attribute is not deined for a particular object and we try to access it\n",
    "# we will get an error"
   ]
  },
  {
   "cell_type": "code",
   "execution_count": 6,
   "metadata": {},
   "outputs": [],
   "source": [
    "print(s1.name)\n",
    "print(s1.age)\n",
    "print(s2.roll)"
   ]
  },
  {
   "cell_type": "markdown",
   "metadata": {},
   "source": [
    "##### Inbuilt fucntions"
   ]
  },
  {
   "cell_type": "code",
   "execution_count": 7,
   "metadata": {},
   "outputs": [],
   "source": [
    "# setattr(obj,\"attr\",value) - It is used to set a value for an attr of an object\n",
    "setattr(s2,\"age\",21)\n",
    "print(s2.age)"
   ]
  },
  {
   "cell_type": "code",
   "execution_count": 8,
   "metadata": {},
   "outputs": [],
   "source": [
    "# getattr(obj,\"attr\",default_value) - It is used to get ther value for an attr of an object\n",
    "# If the attr is not defined for that object we will get an error BUT we can give it a default value too\n",
    "\n",
    "setattr(s2,\"name\",\"No_name\")\n",
    "print(s2.name)"
   ]
  },
  {
   "cell_type": "code",
   "execution_count": 9,
   "metadata": {},
   "outputs": [],
   "source": [
    "#delattr(obj,\"attr\") - It is used to delete an attr for an object.\n",
    "delattr(s2,\"name\")"
   ]
  },
  {
   "cell_type": "markdown",
   "metadata": {},
   "source": [
    "##### CLASS ATTRIBUTES"
   ]
  },
  {
   "cell_type": "code",
   "execution_count": 10,
   "metadata": {},
   "outputs": [],
   "source": [
    "# CLASS ATTRIBUTES are the attributes that are common to each object of the class\n",
    "# Eg for Student class we have total_student,class_teacher,etc.\n",
    "\n",
    "# Even the class creates a dictionary of class attributes.\n",
    "\n",
    "#There are two ways to make class attributes."
   ]
  },
  {
   "cell_type": "code",
   "execution_count": 11,
   "metadata": {},
   "outputs": [],
   "source": [
    "# Two ways to make class attributes.\n",
    "# 1.) Inside class\n",
    "class Student:\n",
    "    total_students = 100\n",
    "\n",
    "# 2.) outside class \n",
    "Student.class_teacher = \"Nidhi ma'am\""
   ]
  },
  {
   "cell_type": "code",
   "execution_count": 12,
   "metadata": {},
   "outputs": [],
   "source": [
    "# Accesing dict\n",
    "Student.__dict__"
   ]
  },
  {
   "cell_type": "code",
   "execution_count": 13,
   "metadata": {},
   "outputs": [],
   "source": [
    "# We see that the class attributes dictionary has some precreated attributes too."
   ]
  },
  {
   "cell_type": "code",
   "execution_count": 14,
   "metadata": {},
   "outputs": [],
   "source": [
    "# Accesing class attribute using class\n",
    "Student.total_students"
   ]
  },
  {
   "cell_type": "code",
   "execution_count": 15,
   "metadata": {},
   "outputs": [],
   "source": [
    "Student.class_teacher"
   ]
  },
  {
   "cell_type": "code",
   "execution_count": 16,
   "metadata": {},
   "outputs": [],
   "source": [
    "# We can also acces class attributes using its objects BUT this is not suggested/ideal.\n",
    "s1 = Student()\n",
    "s2 = Student()\n",
    "\n",
    "print(s1.total_students)\n",
    "print(s1.class_teacher)\n",
    "print(s2.total_students)\n",
    "print(s2.class_teacher)"
   ]
  },
  {
   "cell_type": "code",
   "execution_count": 17,
   "metadata": {},
   "outputs": [],
   "source": [
    "# Changing values of class attributes\n",
    "Student.total_students = 200"
   ]
  },
  {
   "cell_type": "code",
   "execution_count": 18,
   "metadata": {},
   "outputs": [],
   "source": [
    "print(Student.total_students)\n",
    "print(s1.total_students)\n",
    "print(s2.total_students)"
   ]
  },
  {
   "cell_type": "code",
   "execution_count": 19,
   "metadata": {},
   "outputs": [],
   "source": [
    "# We can also change value using object but it does not change the value of class\n",
    "# attribute but it creates an INSTANCE ATTRIBUTE for that object and give it that value.\n",
    "# Hence it is not suggested to do so.\n",
    "\n",
    "print(\"s1 dict : \",s1.__dict__,end=\" \")\n",
    "print()\n",
    "s1.total_students = 250\n",
    "print(Student.total_students)\n",
    "print(s1.total_students)\n",
    "print(s2.total_students)\n",
    "print(\"s1 dict : \",s1.__dict__,end=\" \")\n",
    "print()\n",
    "print(\"s2 dict : \",s2.__dict__,end=\" \")"
   ]
  },
  {
   "cell_type": "markdown",
   "metadata": {},
   "source": [
    "#####  METHODS\n",
    "##### * INSTANCE METHODS\n",
    "##### * CLASS METHODS\n",
    "##### * STATIC METHODS"
   ]
  },
  {
   "cell_type": "code",
   "execution_count": 20,
   "metadata": {},
   "outputs": [],
   "source": [
    "# INSTANCE METHODS\n",
    "# Any function defined inside the class is an instance method by default.\n",
    "# For instance methods we need to always give an argument called self (this in java and c++)\n",
    "\n",
    "# Eg def printHello():\n",
    "#     print(\"hello\")\n",
    "    \n",
    "# This would result in an error saying as in main we will call it as a.print() ie without\n",
    "# an arguments but in the function definition by default python takes the object as an argument.\n",
    "\n",
    "# So we need to explicitly give an argument named self for ever instance method.\n",
    "\n",
    "# def printHello(self):\n",
    "#     print(\"hello\")"
   ]
  },
  {
   "cell_type": "code",
   "execution_count": 21,
   "metadata": {},
   "outputs": [],
   "source": [
    "class Student :\n",
    "    #Class attributes\n",
    "    totalStudents = 20\n",
    "    classTeacher = \"Nidhi ma'am\"\n",
    "    \n",
    "    def printHello(self):\n",
    "        print(\"Hello\")\n",
    "    \n",
    "    def printHelloName(self,str):\n",
    "        print(\"Hello\",str,end=\" \")\n",
    "        print()\n",
    "    \n",
    "    def printNameObject(self):\n",
    "# print(name)     #This would result in an error as python considers name to be local.We need to specify that we want the name of the current object.m\n",
    "# if there was a local varibale named name we could do print(name) and can do even now.But since we want the name of the object we'll have to use self.name .\n",
    "        print(self.name)\n",
    "       \n",
    "s1 = Student()\n",
    "s2 = Student()"
   ]
  },
  {
   "cell_type": "code",
   "execution_count": 22,
   "metadata": {},
   "outputs": [],
   "source": [
    "s1.printHello()"
   ]
  },
  {
   "cell_type": "code",
   "execution_count": 23,
   "metadata": {},
   "outputs": [],
   "source": [
    "s1.printHelloName(\"Aryan\")"
   ]
  },
  {
   "cell_type": "code",
   "execution_count": 24,
   "metadata": {},
   "outputs": [],
   "source": [
    "s1.name = \"Aryan\""
   ]
  },
  {
   "cell_type": "code",
   "execution_count": 25,
   "metadata": {},
   "outputs": [],
   "source": [
    "s1.printNameObject() "
   ]
  },
  {
   "cell_type": "code",
   "execution_count": 26,
   "metadata": {},
   "outputs": [],
   "source": [
    "#These methods are instance methods and cannot be called using the class."
   ]
  },
  {
   "cell_type": "markdown",
   "metadata": {},
   "source": [
    "####### Creating new instance and class attributes using instance methods"
   ]
  },
  {
   "cell_type": "code",
   "execution_count": 27,
   "metadata": {},
   "outputs": [],
   "source": [
    "class Student:\n",
    "    totalStudents = 20\n",
    "    classTeacher = \"Nidhi ma'am\"\n",
    "    \n",
    "    #Creating new instance attribute if already not existing.If existing, updating it.\n",
    "    def addName(self,name):\n",
    "        self.name = name\n",
    "    \n",
    "    #Accesing class attribute\n",
    "    def getTotalStudents(self):\n",
    "        print(Student.totalStudents)\n",
    "    #Changing class attribute and adding a new class attribute \n",
    "    def changeTotalStudents(self):\n",
    "        Student.totalStudents = 100\n",
    "        print(Student.totalStudents)\n",
    "        Student.totalSections = 5\n",
    "\n",
    "s1 = Student()\n",
    "s2 = Student()"
   ]
  },
  {
   "cell_type": "code",
   "execution_count": 28,
   "metadata": {},
   "outputs": [],
   "source": [
    "print(s1.__dict__)\n",
    "s1.addName(\"Aryan\")\n",
    "print(s1.__dict__)"
   ]
  },
  {
   "cell_type": "code",
   "execution_count": 29,
   "metadata": {},
   "outputs": [
    {
     "name": "stdout",
     "output_type": "stream",
     "text": [
      "20\n"
     ]
    }
   ],
   "source": [
    "s1.getTotalStudents()"
   ]
  },
  {
   "cell_type": "code",
   "execution_count": 30,
   "metadata": {},
   "outputs": [
    {
     "name": "stdout",
     "output_type": "stream",
     "text": [
      "{'__module__': '__main__', 'totalStudents': 20, 'classTeacher': \"Nidhi ma'am\", 'addName': <function Student.addName at 0x000002010D05BC18>, 'getTotalStudents': <function Student.getTotalStudents at 0x000002010D05B9D8>, 'changeTotalStudents': <function Student.changeTotalStudents at 0x000002010D05B948>, '__dict__': <attribute '__dict__' of 'Student' objects>, '__weakref__': <attribute '__weakref__' of 'Student' objects>, '__doc__': None}\n"
     ]
    }
   ],
   "source": [
    "print(Student.__dict__)"
   ]
  },
  {
   "cell_type": "code",
   "execution_count": 31,
   "metadata": {},
   "outputs": [
    {
     "name": "stdout",
     "output_type": "stream",
     "text": [
      "100\n"
     ]
    }
   ],
   "source": [
    "s1.changeTotalStudents()"
   ]
  },
  {
   "cell_type": "code",
   "execution_count": 32,
   "metadata": {},
   "outputs": [
    {
     "name": "stdout",
     "output_type": "stream",
     "text": [
      "{'__module__': '__main__', 'totalStudents': 100, 'classTeacher': \"Nidhi ma'am\", 'addName': <function Student.addName at 0x000002010D05BC18>, 'getTotalStudents': <function Student.getTotalStudents at 0x000002010D05B9D8>, 'changeTotalStudents': <function Student.changeTotalStudents at 0x000002010D05B948>, '__dict__': <attribute '__dict__' of 'Student' objects>, '__weakref__': <attribute '__weakref__' of 'Student' objects>, '__doc__': None, 'totalSections': 5}\n"
     ]
    }
   ],
   "source": [
    "print(Student.__dict__)"
   ]
  },
  {
   "cell_type": "markdown",
   "metadata": {},
   "source": [
    "##### Constructors - A constructor is an instance method and is called as soon as an object is created."
   ]
  },
  {
   "cell_type": "code",
   "execution_count": 33,
   "metadata": {},
   "outputs": [],
   "source": [
    "# In python we can only make one constructor for a class unlike java/cpp\n",
    "# A constructor is made as follows:\n",
    "# def __init__(self,*args):\n",
    "#Since we cannot make multiple we can pass any number of arguments in it and python adjusts automatically.\n",
    "# once we make our own constructor default arugment does not exist.\n",
    "class Student():\n",
    "    totalStudents = 20\n",
    "    classTeacher = \"Nidhi ma'am\"\n",
    "    \n",
    "    def __init__(self,name,age,rollno):\n",
    "        self.name = name\n",
    "        self.age = age\n",
    "        self.rollno = rollno\n",
    "    \n",
    "s1 = Student(\"Aryan\",21,13)\n",
    "s2 = Student(\"Cout\",22,25)"
   ]
  },
  {
   "cell_type": "code",
   "execution_count": 35,
   "metadata": {},
   "outputs": [
    {
     "name": "stdout",
     "output_type": "stream",
     "text": [
      "Aryan\n",
      "21\n",
      "13\n",
      "Cout\n",
      "22\n",
      "25\n"
     ]
    }
   ],
   "source": [
    "print(s1.name)\n",
    "print(s1.age)\n",
    "print(s1.rollno)\n",
    "print(s2.name)\n",
    "print(s2.age)\n",
    "print(s2.rollno)"
   ]
  },
  {
   "cell_type": "code",
   "execution_count": null,
   "metadata": {},
   "outputs": [],
   "source": [
    "\"\"\"\n",
    "IMPORTANT\n",
    "\n",
    "Predict The Output\n",
    "\n",
    "What will be the output of following code?\n",
    "\n",
    "class Student:\n",
    "    def __init__(self,name,age):\n",
    "        self.name = “Rohan”\n",
    "        self.age = 20\n",
    "\n",
    "    def print_student_details():\n",
    "        print(self.name, end= “ “)\n",
    "        print(self.age)\n",
    "s = Student(“Parikh”,25)\n",
    "s.print_student_details()\n",
    "\n",
    "///////////////////////////////////////////////\n",
    "Options\n",
    "Parikh 25\n",
    "Rohan 20\n",
    "Parikh 20\n",
    "Error \n",
    "///////////////////////////////////////////////\n",
    "Ans = Error\n",
    "\"\"\""
   ]
  },
  {
   "cell_type": "markdown",
   "metadata": {},
   "source": [
    "##### Access Modifiers\n"
   ]
  },
  {
   "cell_type": "code",
   "execution_count": 39,
   "metadata": {},
   "outputs": [],
   "source": [
    "# By default everything in a class is puclic.\n",
    "\n",
    "# To make something private we put __ before it.\n",
    "\n",
    "# To make something public we put _ before it."
   ]
  },
  {
   "cell_type": "code",
   "execution_count": 53,
   "metadata": {},
   "outputs": [],
   "source": [
    "class Student:\n",
    "    def __init__(self,rollno,age):\n",
    "        self.rollno = rollno\n",
    "        self.age = age\n",
    "    \n",
    "    def addName(self,name):\n",
    "        self.__name = name\n",
    "    \n",
    "    def getName(self):\n",
    "        return self.__name  #Since name is private we need to specify that using __ .\n",
    "        \n",
    "s1 = Student(13,21)"
   ]
  },
  {
   "cell_type": "code",
   "execution_count": 54,
   "metadata": {},
   "outputs": [],
   "source": [
    "s1.addName(\"Aryan\")"
   ]
  },
  {
   "cell_type": "code",
   "execution_count": 55,
   "metadata": {},
   "outputs": [
    {
     "name": "stdout",
     "output_type": "stream",
     "text": [
      "13\n",
      "21\n",
      "Aryan\n"
     ]
    }
   ],
   "source": [
    "print(s1.rollno)\n",
    "print(s1.age)\n",
    "# print(s1.name)   #This would give an error as name has been made private.\n",
    "# So we will use the public function getName for this\n",
    "print(s1.getName())"
   ]
  },
  {
   "cell_type": "code",
   "execution_count": 57,
   "metadata": {},
   "outputs": [
    {
     "name": "stdout",
     "output_type": "stream",
     "text": [
      "Aryan\n"
     ]
    }
   ],
   "source": [
    "# In reality in Python nothing is prviate.\n",
    "# We can even access a private property in Python without use of any public function spefic to that property.\n",
    "# This can be done through the class.\n",
    "#This is called name mangling\n",
    "print(s1._Student__name)"
   ]
  },
  {
   "cell_type": "code",
   "execution_count": null,
   "metadata": {},
   "outputs": [],
   "source": [
    "\"\"\"\n",
    "IMPORTANT\n",
    "\n",
    "OOPS Modifier\n",
    "\n",
    "Analyze the following code:\n",
    "\n",
    "class A:\n",
    "     def __init__(self):\n",
    "         self.x = 1\n",
    "         self.__y = 1\n",
    "     def getY(self):\n",
    "         return self.__y\n",
    "a = A()\n",
    "a.__y = 45\n",
    "print(a.getY())\n",
    "/////////////////////////////////////////\n",
    "Options\n",
    "The program has an error because x is private and cannot be access outside of the class.\n",
    "The program has an error because y is private and cannot be access outside of the class.\n",
    "The program has an error because you cannot name a variable using __y.\n",
    "The program runs fine and prints 1. \n",
    "///////////////////////////////////////////\n",
    "\n",
    "Correct Answer\n",
    "The program runs fine and prints 1. \n",
    "\"\"\""
   ]
  },
  {
   "cell_type": "markdown",
   "metadata": {},
   "source": [
    "##### CLASS METHOD"
   ]
  },
  {
   "cell_type": "code",
   "execution_count": 59,
   "metadata": {},
   "outputs": [
    {
     "name": "stdout",
     "output_type": "stream",
     "text": [
      "100\n",
      "100\n"
     ]
    }
   ],
   "source": [
    "class Student:\n",
    "    __totalStudents = 100\n",
    "    classTeacher = \"Nidhi ma'am\"\n",
    "    \n",
    "    def getTotalStudents(self):\n",
    "        return Student.__totalStudents\n",
    "\n",
    "s1 = Student()\n",
    "\n",
    "# Here __totalStudents is a private class attributes.We thus have made a public get method.\n",
    "# We can get __totalStudents in two ways :- through class or through object\n",
    "\n",
    "print(s1.getTotalStudents())\n",
    "print(Student.getTotalStudents(s1))   #We need to pass in an object so that it gets self."
   ]
  },
  {
   "cell_type": "code",
   "execution_count": 60,
   "metadata": {},
   "outputs": [],
   "source": [
    "# As we can see both return the same thing but since were accessing a class attribute \n",
    "# we must use the second way as it used a class to access a class attribute.\n",
    "# But we have to pass an object into it.\n",
    "# To avoid this we should make the get method a class method."
   ]
  },
  {
   "cell_type": "code",
   "execution_count": 61,
   "metadata": {},
   "outputs": [
    {
     "name": "stdout",
     "output_type": "stream",
     "text": [
      "100\n"
     ]
    }
   ],
   "source": [
    "class Student:\n",
    "    __totalStudents = 100\n",
    "    classTeacher = \"Nidhi ma'am\"\n",
    "    \n",
    "    @classmethod\n",
    "    def getTotalStudents(cls):\n",
    "        return Student.__totalStudents\n",
    "\n",
    "s1 = Student()\n",
    "\n",
    "print(Student.getTotalStudents()) "
   ]
  },
  {
   "cell_type": "code",
   "execution_count": 62,
   "metadata": {},
   "outputs": [],
   "source": [
    "# Now we can see we make it as class method by specifying using @classmethod\n",
    "# @classmethod is a decorator\n",
    "# and we also dont use self instead we use cls which stands for class\n",
    "# Now while calling the get function using the class we do not need to pass any object."
   ]
  },
  {
   "cell_type": "markdown",
   "metadata": {},
   "source": [
    "##### Factory Methods"
   ]
  },
  {
   "cell_type": "code",
   "execution_count": null,
   "metadata": {},
   "outputs": [],
   "source": []
  }
 ],
 "metadata": {
  "kernelspec": {
   "display_name": "Python 3",
   "language": "python",
   "name": "python3"
  },
  "language_info": {
   "codemirror_mode": {
    "name": "ipython",
    "version": 3
   },
   "file_extension": ".py",
   "mimetype": "text/x-python",
   "name": "python",
   "nbconvert_exporter": "python",
   "pygments_lexer": "ipython3",
   "version": "3.7.4"
  }
 },
 "nbformat": 4,
 "nbformat_minor": 2
}
