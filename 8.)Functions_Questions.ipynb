{
 "cells": [
  {
   "cell_type": "markdown",
   "metadata": {},
   "source": [
    "Q1.)Fahrenheit To Celsius"
   ]
  },
  {
   "cell_type": "code",
   "execution_count": 1,
   "metadata": {},
   "outputs": [
    {
     "name": "stdout",
     "output_type": "stream",
     "text": [
      "0\n",
      "100\n",
      "20\n",
      "0 \t -17\n",
      "20 \t -6\n",
      "40 \t 4\n",
      "60 \t 15\n",
      "80 \t 26\n"
     ]
    }
   ],
   "source": [
    "\n",
    "def f_to_c(temp_f):\n",
    "    \n",
    "       return int((5/9)*(temp_f-32))\n",
    "         \n",
    "\n",
    "def printTable(start,end,step):\n",
    "        for i in range(start,end,step):\n",
    "                print(start,\"\\t\",f_to_c(i))\n",
    "                start+=step\n",
    "    \n",
    "s = int(input())\n",
    "e = int(input())\n",
    "step = int(input())\n",
    "printTable(s,e,step)"
   ]
  },
  {
   "cell_type": "markdown",
   "metadata": {},
   "source": [
    "Q2.)Fibonacci Member\n"
   ]
  },
  {
   "cell_type": "code",
   "execution_count": 3,
   "metadata": {},
   "outputs": [
    {
     "name": "stdout",
     "output_type": "stream",
     "text": [
      "5\n",
      "true\n"
     ]
    }
   ],
   "source": [
    "# A number is a fibonacci number if one of 5n^2+4 or 5n^2-4 or both are perfect squares\n",
    "import math \n",
    "\n",
    "def isPerfectSquare(x): \n",
    "    s = int(math.sqrt(x)) \n",
    "    return s*s == x \n",
    "\n",
    "def isFibonacci(n): \n",
    "\n",
    "    return isPerfectSquare(5*n*n + 4) or isPerfectSquare(5*n*n - 4) \n",
    "\n",
    "n = int(input())\n",
    "if(isFibonacci(n)):\n",
    "    print(\"true\")\n",
    "else:\n",
    "\tprint(\"false\")  "
   ]
  }
 ],
 "metadata": {
  "kernelspec": {
   "display_name": "Python 3",
   "language": "python",
   "name": "python3"
  }
 },
 "nbformat": 4,
 "nbformat_minor": 2
}
