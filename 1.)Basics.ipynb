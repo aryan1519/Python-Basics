{
 "cells": [
  {
   "cell_type": "markdown",
   "metadata": {},
   "source": [
    "### Inroduction to Python"
   ]
  },
  {
   "cell_type": "code",
   "execution_count": 1,
   "metadata": {},
   "outputs": [
    {
     "name": "stdout",
     "output_type": "stream",
     "text": [
      "140728377569824\n",
      "140728377569856\n"
     ]
    }
   ],
   "source": [
    "a = 10 #Python creates a space stores 10 there and a is a variable that stores the address of 10.\n",
    "\n",
    "a = a+1 # Now python has changed the value of a. I first calculates a+1 ie 10+1 = 11 creates  a new storage \n",
    "        # and stores 11 there.\n",
    "    \n",
    "#Proof\n",
    "\n",
    "a = 10\n",
    "print(id(a))\n",
    "\n",
    "a = a+1\n",
    "print(id(a))"
   ]
  },
  {
   "cell_type": "code",
   "execution_count": 2,
   "metadata": {},
   "outputs": [],
   "source": [
    "# We can see above that both have different ids."
   ]
  },
  {
   "cell_type": "code",
   "execution_count": 3,
   "metadata": {},
   "outputs": [
    {
     "name": "stdout",
     "output_type": "stream",
     "text": [
      "140728377569824\n",
      "140728377569824\n"
     ]
    }
   ],
   "source": [
    "# Now an interesting thing can be noticed when we make two variables with same value\n",
    "\n",
    "a = 10\n",
    "print(id(a))\n",
    "\n",
    "b = 10\n",
    "print(id(b))"
   ]
  },
  {
   "cell_type": "code",
   "execution_count": 4,
   "metadata": {},
   "outputs": [
    {
     "name": "stdout",
     "output_type": "stream",
     "text": [
      "2149354361712\n",
      "2149354361104\n"
     ]
    }
   ],
   "source": [
    "# We notice that both a and b have the same id .\n",
    "# This is the optimization done by python\n",
    "# But it does not do this for all values.\n",
    "\n",
    "a = 1000\n",
    "print(id(a))\n",
    "\n",
    "b = 10000\n",
    "print(id(b))\n"
   ]
  },
  {
   "cell_type": "code",
   "execution_count": 5,
   "metadata": {},
   "outputs": [
    {
     "name": "stdout",
     "output_type": "stream",
     "text": [
      "140728377569344\n",
      "140728377569344\n",
      "\n",
      "140728377577696\n",
      "140728377577696\n",
      "\n",
      "2149354361648\n",
      "2149354361712\n",
      "\n",
      "2149354361680\n",
      "2149354361936\n",
      "\n"
     ]
    }
   ],
   "source": [
    "# We notice that the ids are different now \n",
    "# This is because python does this optimization only for numbers between -5 and 256\n",
    " \n",
    "a = -5\n",
    "print(id(a))\n",
    "\n",
    "b = -5\n",
    "print(id(b))\n",
    "\n",
    "print(\"\")\n",
    "\n",
    "c = 256\n",
    "print(id(c))\n",
    "\n",
    "d = 256\n",
    "print(id(d))\n",
    "\n",
    "print(\"\")\n",
    "\n",
    "a = -6\n",
    "print(id(a))\n",
    "\n",
    "b = -6\n",
    "print(id(b))\n",
    "\n",
    "print(\"\")\n",
    "\n",
    "c = 257\n",
    "print(id(c))\n",
    "\n",
    "d = 257\n",
    "print(id(d))\n",
    "\n",
    "print(\"\")"
   ]
  },
  {
   "cell_type": "markdown",
   "metadata": {},
   "source": [
    "### Basic arithmetic operations"
   ]
  },
  {
   "cell_type": "code",
   "execution_count": 6,
   "metadata": {},
   "outputs": [
    {
     "data": {
      "text/plain": [
       "3.3333333333333335"
      ]
     },
     "execution_count": 6,
     "metadata": {},
     "output_type": "execute_result"
    }
   ],
   "source": [
    "a = 10\n",
    "b = 3\n",
    "a/b   #This is normal division and it gives floating point output"
   ]
  },
  {
   "cell_type": "code",
   "execution_count": 7,
   "metadata": {},
   "outputs": [
    {
     "data": {
      "text/plain": [
       "3"
      ]
     },
     "execution_count": 7,
     "metadata": {},
     "output_type": "execute_result"
    }
   ],
   "source": [
    "a//b  #This is interger division and it gives integer output"
   ]
  },
  {
   "cell_type": "markdown",
   "metadata": {},
   "source": [
    "### Taking input"
   ]
  },
  {
   "cell_type": "code",
   "execution_count": 8,
   "metadata": {},
   "outputs": [
    {
     "name": "stdout",
     "output_type": "stream",
     "text": [
      "10\n",
      "20\n",
      "1020\n"
     ]
    }
   ],
   "source": [
    "a = input()\n",
    "b = input()\n",
    "sum = a + b\n",
    "print(sum)"
   ]
  },
  {
   "cell_type": "code",
   "execution_count": 9,
   "metadata": {},
   "outputs": [
    {
     "name": "stdout",
     "output_type": "stream",
     "text": [
      "10\n",
      "20\n",
      "30\n"
     ]
    }
   ],
   "source": [
    "# We see that the input fuction takes string inputs only.\n",
    "# If we want other types of inputs we need to explicitly typecast\n",
    "\n",
    "a = int(input())\n",
    "b = int(input())\n",
    "sum = a + b\n",
    "print(sum)"
   ]
  },
  {
   "cell_type": "code",
   "execution_count": 14,
   "metadata": {},
   "outputs": [
    {
     "name": "stdout",
     "output_type": "stream",
     "text": [
      "<class 'str'>\n",
      "<class 'int'>\n"
     ]
    }
   ],
   "source": [
    "# We can even convert a string to int if the string is a valid integer. Similarly for floating point values\n",
    "a = \"120\"\n",
    "print(type(a))\n",
    "int(a)\n",
    "print(type(int(a)))\n"
   ]
  },
  {
   "cell_type": "code",
   "execution_count": 15,
   "metadata": {},
   "outputs": [
    {
     "data": {
      "text/plain": [
       "3"
      ]
     },
     "execution_count": 15,
     "metadata": {},
     "output_type": "execute_result"
    }
   ],
   "source": [
    "a = 3.76\n",
    "# int(a)         It only takes the integer part of the number.No rounding off is done"
   ]
  },
  {
   "cell_type": "code",
   "execution_count": null,
   "metadata": {},
   "outputs": [],
   "source": []
  }
 ],
 "metadata": {
  "kernelspec": {
   "display_name": "Python 3",
   "language": "python",
   "name": "python3"
  },
  "language_info": {
   "codemirror_mode": {
    "name": "ipython",
    "version": 3
   },
   "file_extension": ".py",
   "mimetype": "text/x-python",
   "name": "python",
   "nbconvert_exporter": "python",
   "pygments_lexer": "ipython3",
   "version": "3.7.4"
  }
 },
 "nbformat": 4,
 "nbformat_minor": 2
}
